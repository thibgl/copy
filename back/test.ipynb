{
 "cells": [
  {
   "cell_type": "code",
   "execution_count": 5,
   "metadata": {},
   "outputs": [],
   "source": [
    "# -0.00014086585463720782 {'stepSize': 1e-05, 'minQty': 1e-05, 'minNotional': 5.0} 70158.96636869565\n",
    "from decimal import Decimal, ROUND_UP\n"
   ]
  },
  {
   "cell_type": "code",
   "execution_count": 8,
   "metadata": {},
   "outputs": [],
   "source": [
    "def truncate_amount(amount, precision, price):\n",
    "    print('amount, precision, price')\n",
    "    print(amount, precision, price)\n",
    "    amount_base, amount_decimals = str(amount).split('.')\n",
    "    n_allowed_decimals = str(precision[\"stepSize\"]).count('0')\n",
    "    amount_decimals = amount_decimals[:n_allowed_decimals]\n",
    "    print('amount_base' + '.' + 'amount_decimals')\n",
    "    print(amount_base + '.' + amount_decimals)\n",
    "    if amount < precision[\"minQty\"]:\n",
    "        amount = precision[\"minQty\"]\n",
    "\n",
    "    if amount * price < precision[\"minNotional\"]:\n",
    "        amount = precision[\"minNotional\"] / price * 1.1\n",
    "    amount = Decimal(str(amount))\n",
    "    price = Decimal(str(price))\n",
    "    step_size = Decimal(str(precision['stepSize']))\n",
    "    min_notional = Decimal(str(precision[\"minNotional\"]))\n",
    "    truncated = Decimal(str((amount // step_size) * step_size))\n",
    "\n",
    "    while truncated * price < min_notional:\n",
    "        truncated += step_size\n",
    "\n",
    "    quantized = truncated.quantize(step_size, rounding=ROUND_UP)\n",
    "\n",
    "    print('amount, truncated, quantized, quantized * price')\n",
    "    print(amount, truncated, quantized, quantized * price)\n",
    "    return quantized"
   ]
  },
  {
   "cell_type": "code",
   "execution_count": 10,
   "metadata": {},
   "outputs": [
    {
     "name": "stdout",
     "output_type": "stream",
     "text": [
      "amount, precision, price\n",
      "-0.00014086585463720782 {'stepSize': 1e-05, 'minQty': 1e-05, 'minNotional': 5.0} 70158.96636869565\n",
      "amount_base.amount_decimals\n",
      "-0.0\n",
      "0.00007839340122396751 0.00008 0.00008 5.6127173094956520\n"
     ]
    },
    {
     "data": {
      "text/plain": [
       "Decimal('0.00008')"
      ]
     },
     "execution_count": 10,
     "metadata": {},
     "output_type": "execute_result"
    }
   ],
   "source": [
    "truncate_amount(-0.00014086585463720782, {'stepSize': 1e-05, 'minQty': 1e-05, 'minNotional': 5.0}, 70158.96636869565)"
   ]
  },
  {
   "cell_type": "code",
   "execution_count": null,
   "metadata": {},
   "outputs": [],
   "source": []
  }
 ],
 "metadata": {
  "kernelspec": {
   "display_name": "HERBZ",
   "language": "python",
   "name": "python3"
  },
  "language_info": {
   "codemirror_mode": {
    "name": "ipython",
    "version": 3
   },
   "file_extension": ".py",
   "mimetype": "text/x-python",
   "name": "python",
   "nbconvert_exporter": "python",
   "pygments_lexer": "ipython3",
   "version": "3.8.17"
  }
 },
 "nbformat": 4,
 "nbformat_minor": 2
}
